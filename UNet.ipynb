{
 "cells": [
  {
   "cell_type": "code",
   "execution_count": null,
   "metadata": {},
   "outputs": [],
   "source": [
    "import tensorflow as tf\n",
    "import numpy as np\n",
    "\n",
    "from keras.models import Model\n",
    "from keras.optimizers import *\n",
    "from keras.layers import *"
   ]
  },
  {
   "cell_type": "code",
   "execution_count": null,
   "metadata": {},
   "outputs": [],
   "source": [
    "# The UNet Architecture\n",
    "\n",
    "def unet(input_size=(572,572,1)):\n",
    "    inputs = Input(input_size)\n",
    "        \n",
    "    conv1 = conv_relu(inputs, 64)\n",
    "    conv1 = conv_relu(conv1, 64)\n",
    "        \n",
    "    pool1 = maxpool(conv1)\n",
    "    conv2 = conv_relu(pool1, 128)\n",
    "    conv2 = conv_relu(conv2, 128)\n",
    "\n",
    "    pool2 = maxpool(conv2)\n",
    "    conv3 = conv_relu(pool2, 256)\n",
    "    conv3 = conv_relu(conv3, 256)\n",
    "        \n",
    "    pool3 = maxpool(conv3)\n",
    "    conv4 = conv_relu(pool3, 512)\n",
    "    conv4 = conv_relu(conv4, 512)\n",
    "\n",
    "    pool4 = maxpool(conv4)\n",
    "    conv5 = conv_relu(pool4, 1024)\n",
    "    conv5 = conv_relu(conv5, 1024)\n",
    "        \n",
    "    upconv1 = upconv(conv5, 512)\n",
    "    merge1 = copy(crop(conv4, 56/64), upconv1)\n",
    "    conv6 = conv_relu(merge1, 512)\n",
    "    conv6 = conv_relu(conv6, 512)\n",
    "        \n",
    "    upconv2 = upconv(conv6, 256)\n",
    "    merge2 = copy(crop(conv3, 104/136), upconv2)\n",
    "    conv7 = conv_relu(merge2, 256)\n",
    "    conv7 = conv_relu(conv7, 256)\n",
    "        \n",
    "    upconv3 = upconv(conv7, 128)\n",
    "    merge3 = copy(crop(conv2, 200/280), upconv3)\n",
    "    conv8 = conv_relu(merge3, 128)\n",
    "    conv8 = conv_relu(conv8, 128)\n",
    "        \n",
    "    upconv4 = upconv(conv8, 64)\n",
    "    merge4 = copy(crop(conv1, 392/568), upconv4)\n",
    "    conv9 = conv_relu(merge4, 64)\n",
    "    conv9 = conv_relu(conv9, 64)\n",
    "        \n",
    "    output_map = conv_relu(conv9, 2, ksize=[1,1])\n",
    "        \n",
    "    model = Model(input=inputs, output=output_map)\n",
    "    model.compile(optimizer = Adam(lr = 1e-4), loss = 'binary_crossentropy', metrics = ['accuracy'])\n",
    "        \n",
    "    return model\n",
    "            \n",
    "        "
   ]
  },
  {
   "cell_type": "code",
   "execution_count": null,
   "metadata": {},
   "outputs": [],
   "source": [
    "# helper functions\n",
    "\n",
    "def conv_relu(image, num_filters, ksize=3, stride=1, pad=\"VALID\"):\n",
    "    conv = Conv2D(filters=num_filters, kernel_size=ksize, \n",
    "                            strides=stride, padding=pad, activation='relu', \n",
    "                            kernel_initializer='he_normal') (image)\n",
    "    return conv\n",
    "\n",
    "\n",
    "def maxpool(image, kernel=2, stride=2, pad=\"VALID\"):\n",
    "    pool = MaxPool2D(pool_size=kernel, strides=stride, padding=pad) (image)\n",
    "    return pool\n",
    "\n",
    "\n",
    "def upconv(image, num_filters, ksize=2, stride=1, pad=\"VALID\"):\n",
    "    deconv = Conv2DTranspose(filters=num_filters, kernel_size=ksize,\n",
    "                                        strides=stride, padding=pad) (image)\n",
    "    return deconv\n",
    "\n",
    "\n",
    "def copy(map1, map2):\n",
    "    merged_maps = tf.concat([map1, map2], -1)\n",
    "    return merged_maps\n",
    "\n",
    "\n",
    "def crop(image, fraction):\n",
    "    cropped_image = tf.image.central_crop(image, fraction)\n",
    "    return cropped_image\n"
   ]
  },
  {
   "cell_type": "code",
   "execution_count": null,
   "metadata": {},
   "outputs": [],
   "source": [
    "model = unet()"
   ]
  }
 ],
 "metadata": {
  "kernelspec": {
   "display_name": "Python 3",
   "language": "python",
   "name": "python3"
  },
  "language_info": {
   "codemirror_mode": {
    "name": "ipython",
    "version": 3
   },
   "file_extension": ".py",
   "mimetype": "text/x-python",
   "name": "python",
   "nbconvert_exporter": "python",
   "pygments_lexer": "ipython3",
   "version": "3.6.5"
  }
 },
 "nbformat": 4,
 "nbformat_minor": 2
}
