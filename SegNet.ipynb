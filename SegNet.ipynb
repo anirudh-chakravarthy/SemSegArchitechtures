{
 "cells": [
  {
   "cell_type": "code",
   "execution_count": null,
   "metadata": {},
   "outputs": [],
   "source": [
    "import tensorflow as tf\n",
    "import numpy as np\n",
    "import os\n",
    "\n",
    "from keras.models import Model\n",
    "from keras.optimizers import *\n",
    "from keras.layers import *"
   ]
  },
  {
   "cell_type": "code",
   "execution_count": null,
   "metadata": {},
   "outputs": [],
   "source": [
    "def Segnet(input_size=(360, 480, 3)):\n",
    "    inputs = Input(input_size)\n",
    "    \n",
    "    conv1 = conv_relu(inputs, 64)\n",
    "    conv1 = conv_relu_pool(conv1, 64)\n",
    "    \n",
    "    conv2 = conv_relu(conv1, 128)\n",
    "    conv2 = conv_relu_pool(conv2, 128)\n",
    "    \n",
    "    conv3 = conv_relu(conv2, 256)\n",
    "    conv3 = conv_relu(conv3, 256)\n",
    "    conv3 = conv_relu_pool(conv3, 256)\n",
    "    \n",
    "    conv4 = conv_relu(conv3, 512)\n",
    "    conv4 = conv_relu(conv4, 512)\n",
    "    conv4 = conv_relu_pool(conv4, 512)\n",
    "    \n",
    "    conv5 = conv_relu(conv4, 512)\n",
    "    conv5 = conv_relu(conv5, 512)\n",
    "    conv5 = conv_relu_pool(conv5, 512)\n",
    "    \n",
    "    upsample1 = upsample(conv5)\n",
    "    conv6 = conv_relu(upsample1, 512)\n",
    "    conv6 = conv_relu(conv6, 512)\n",
    "    conv6 = conv_relu(conv6, 512)\n",
    "    \n",
    "    upsample2 = upsample(conv6)\n",
    "    conv7 = conv_relu(upsample2, 512)\n",
    "    conv7 = conv_relu(conv7, 512)\n",
    "    conv7 = conv_relu(conv7, 512)\n",
    "    \n",
    "    upsample3 = upsample(conv7)\n",
    "    conv8 = conv_relu(upsample3, 256)\n",
    "    conv8 = conv_relu(conv8, 256)\n",
    "    conv8 = conv_relu(conv8, 256)\n",
    "    \n",
    "    upsample4 = upsample(conv8)\n",
    "    conv9 = conv_relu(upsample4, 128)\n",
    "    conv9 = conv_relu(conv9, 128)\n",
    "    \n",
    "    upsample5 = upsample(conv9)\n",
    "    conv10 = conv_relu(upsample5, 64)\n",
    "    conv10 = conv_relu(conv10, 64)\n",
    "    \n",
    "    out = Softmax() (conv10)\n",
    "    \n",
    "    model = Model(input=inputs, output=out)\n",
    "    model.compile(optimizer = SGD(lr=0.1, momentum=0.9), loss = 'categorical_crossentropy', metrics = ['accuracy'])\n",
    "    \n",
    "    return model\n",
    "    "
   ]
  },
  {
   "cell_type": "code",
   "execution_count": null,
   "metadata": {},
   "outputs": [],
   "source": [
    "# Helper functions\n",
    "\n",
    "def conv_relu(image, num_filters, ksize=3, stride=1, pad=\"SAME\"):\n",
    "    \n",
    "    conv = Conv2D(filters=num_filters, kernel_size=ksize, \n",
    "                            strides=stride, padding=pad, activation='relu', \n",
    "                            kernel_initializer='he_normal') (image)\n",
    "    \n",
    "    conv = BatchNormalization() (conv)\n",
    "    return conv\n",
    "\n",
    "\n",
    "def conv_relu_pool(image, num_filters, poolsize=2, pool_stride=2, pool_pad=\"VALID\"):\n",
    "    conv = conv_relu(image, num_filters)\n",
    "    pool = MaxPool2D(pool_size=poolsize, strides=pool_stride, padding=pool_pad) (conv)\n",
    "    return pool\n",
    "\n",
    "\n",
    "def upsample(image):\n",
    "    # Default upsample scale is (2,2)\n",
    "    return UpSampling2D() (image)"
   ]
  },
  {
   "cell_type": "code",
   "execution_count": null,
   "metadata": {},
   "outputs": [],
   "source": [
    "model = Segnet()"
   ]
  }
 ],
 "metadata": {
  "kernelspec": {
   "display_name": "Python 3",
   "language": "python",
   "name": "python3"
  },
  "language_info": {
   "codemirror_mode": {
    "name": "ipython",
    "version": 3
   },
   "file_extension": ".py",
   "mimetype": "text/x-python",
   "name": "python",
   "nbconvert_exporter": "python",
   "pygments_lexer": "ipython3",
   "version": "3.6.5"
  }
 },
 "nbformat": 4,
 "nbformat_minor": 2
}
